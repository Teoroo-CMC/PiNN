{
 "cells": [
  {
   "cell_type": "markdown",
   "id": "e89da443-220a-4b9a-bbd7-b2a1a566022a",
   "metadata": {},
   "source": [
    "# Debugging PiNN layers and networks [![Open In Colab](https://colab.research.google.com/assets/colab-badge.svg)](https://colab.research.google.com/github/Teoroo-CMC/PiNN/blob/master/docs/notebooks/Layer_debug.ipynb)"
   ]
  },
  {
   "cell_type": "code",
   "execution_count": 1,
   "id": "d7bc1d47-43b2-47c6-b2b0-feb28537474b",
   "metadata": {},
   "outputs": [
    {
     "name": "stdout",
     "output_type": "stream",
     "text": [
      "Collecting git+https://github.com/Teoroo-CMC/PiNN\n",
      "  Cloning https://github.com/Teoroo-CMC/PiNN to /local/tmp.2181992/pip-req-build-gv24p52j\n",
      "  Running command git clone -q https://github.com/Teoroo-CMC/PiNN /local/tmp.2181992/pip-req-build-gv24p52j\n",
      "Requirement already satisfied: ase~=3.22.0 in /cephyr/users/jichenl/Alvis/.local/lib/python3.9/site-packages (from pinn==1.2.0.dev0) (3.22.1)\n",
      "Requirement already satisfied: click~=7.0 in /apps/Arch/software/Python/3.9.5-GCCcore-10.3.0/lib/python3.9/site-packages (from pinn==1.2.0.dev0) (7.1.2)\n",
      "Collecting pyyaml~=6.0.1\n",
      "  Downloading PyYAML-6.0.1-cp39-cp39-manylinux_2_17_x86_64.manylinux2014_x86_64.whl (738 kB)\n",
      "\u001b[K     |████████████████████████████████| 738 kB 6.2 MB/s eta 0:00:01\n",
      "\u001b[?25hRequirement already satisfied: numpy>=1.15.0 in /apps/Arch/software/SciPy-bundle/2021.05-foss-2021a/lib/python3.9/site-packages (from ase~=3.22.0->pinn==1.2.0.dev0) (1.20.3)\n",
      "Requirement already satisfied: scipy>=1.1.0 in /apps/Arch/software/SciPy-bundle/2021.05-foss-2021a/lib/python3.9/site-packages (from ase~=3.22.0->pinn==1.2.0.dev0) (1.6.3)\n",
      "Requirement already satisfied: matplotlib>=3.1.0 in /apps/Arch/software/matplotlib/3.4.2-foss-2021a/lib/python3.9/site-packages (from ase~=3.22.0->pinn==1.2.0.dev0) (3.4.2)\n",
      "Requirement already satisfied: pillow>=6.2.0 in /apps/Arch/software/Pillow/8.2.0-GCCcore-10.3.0/lib/python3.9/site-packages (from matplotlib>=3.1.0->ase~=3.22.0->pinn==1.2.0.dev0) (8.2.0)\n",
      "Requirement already satisfied: pyparsing>=2.2.1 in /apps/Arch/software/Python/3.9.5-GCCcore-10.3.0/lib/python3.9/site-packages (from matplotlib>=3.1.0->ase~=3.22.0->pinn==1.2.0.dev0) (2.4.7)\n",
      "Requirement already satisfied: kiwisolver>=1.0.1 in /apps/Arch/software/matplotlib/3.4.2-foss-2021a/lib/python3.9/site-packages (from matplotlib>=3.1.0->ase~=3.22.0->pinn==1.2.0.dev0) (1.3.1)\n",
      "Requirement already satisfied: python-dateutil>=2.7 in /apps/Arch/software/Python/3.9.5-GCCcore-10.3.0/lib/python3.9/site-packages (from matplotlib>=3.1.0->ase~=3.22.0->pinn==1.2.0.dev0) (2.8.1)\n",
      "Requirement already satisfied: cycler>=0.10 in /apps/Arch/software/matplotlib/3.4.2-foss-2021a/lib/python3.9/site-packages (from matplotlib>=3.1.0->ase~=3.22.0->pinn==1.2.0.dev0) (0.10.0)\n",
      "Requirement already satisfied: six in /apps/Arch/software/Python/3.9.5-GCCcore-10.3.0/lib/python3.9/site-packages (from cycler>=0.10->matplotlib>=3.1.0->ase~=3.22.0->pinn==1.2.0.dev0) (1.16.0)\n",
      "Building wheels for collected packages: pinn\n",
      "  Building wheel for pinn (setup.py) ... \u001b[?25ldone\n",
      "\u001b[?25h  Created wheel for pinn: filename=pinn-1.2.0.dev0-py3-none-any.whl size=54139 sha256=e32c7028fff04705998ac3d7a800f872b7b5617fa742282aec12239688b21e42\n",
      "  Stored in directory: /local/tmp.2181992/pip-ephem-wheel-cache-kxuviaek/wheels/8d/bf/2a/c323e21da6d959e1377d7e0f1206fde631ebc1f5947defc463\n",
      "Successfully built pinn\n",
      "Installing collected packages: pyyaml, pinn\n",
      "  Attempting uninstall: pyyaml\n",
      "    Found existing installation: PyYAML 5.4.1\n",
      "    Uninstalling PyYAML-5.4.1:\n",
      "\u001b[31mERROR: Could not install packages due to an OSError: [Errno 13] Permission denied: 'METADATA'\n",
      "Consider using the `--user` option or check the permissions.\n",
      "\u001b[0m\n",
      "\u001b[33mWARNING: You are using pip version 21.1.1; however, version 24.0 is available.\n",
      "You should consider upgrading via the '/apps/Arch/software/Python/3.9.5-GCCcore-10.3.0/bin/python -m pip install --upgrade pip' command.\u001b[0m\n",
      "2024-04-08 11:07:39 URL:https://raw.githubusercontent.com/Teoroo-CMC/PiNN_lab/master/resources/qm9_train.yml [727/727] -> \"qm9_train.yml\" [1]\n",
      "2024-04-08 11:07:40 URL:https://raw.githubusercontent.com/Teoroo-CMC/PiNN_lab/master/resources/qm9_train.tfr [14006204/14006204] -> \"qm9_train.tfr\" [1]\n",
      "FINISHED --2024-04-08 11:07:40--\n",
      "Total wall clock time: 1.2s\n",
      "Downloaded: 2 files, 13M in 0.1s (140 MB/s)\n"
     ]
    }
   ],
   "source": [
    "!pip install git+https://github.com/Teoroo-CMC/PiNN\n",
    "!wget -nv -nc https://raw.githubusercontent.com/Teoroo-CMC/PiNN_lab/master/resources/qm9_train.{yml,tfr}"
   ]
  },
  {
   "cell_type": "markdown",
   "id": "ed40d2c3-2f41-4da0-b1e7-b4aac1e33614",
   "metadata": {},
   "source": [
    "## Loading data\n",
    "\n",
    "For the purpose of testing we download a subset of the QM9 dataset used in [PiNN_lab](https://github.com/Teoroo-CMC/PiNN_lab)."
   ]
  },
  {
   "cell_type": "code",
   "execution_count": 2,
   "id": "fad78f2f-14b2-4a72-82ba-7615ecd3daa4",
   "metadata": {},
   "outputs": [
    {
     "name": "stdout",
     "output_type": "stream",
     "text": [
      "{'A': TensorShape([10]), 'B': TensorShape([10]), 'C': TensorShape([10]), 'Cv': TensorShape([10]), 'G': TensorShape([10]), 'H': TensorShape([10]), 'U': TensorShape([10]), 'U0': TensorShape([10]), 'alpha': TensorShape([10]), 'coord': TensorShape([176, 3]), 'elems': TensorShape([176]), 'gap': TensorShape([10]), 'homo': TensorShape([10]), 'lumo': TensorShape([10]), 'mu': TensorShape([10]), 'r2': TensorShape([10]), 'zpve': TensorShape([10]), 'ind_1': TensorShape([176, 1])}\n"
     ]
    }
   ],
   "source": [
    "from pinn.io import load_tfrecord, sparse_batch\n",
    "\n",
    "dataset = load_tfrecord(\"qm9_train.yml\").apply(sparse_batch(10))\n",
    "for datum in dataset:\n",
    "    print({k: v.shape for k, v in datum.items()})\n",
    "    break"
   ]
  },
  {
   "cell_type": "markdown",
   "id": "5eed3a0b-fc9b-4b49-933c-8c15c7f7bc52",
   "metadata": {},
   "source": [
    "## Using PiNN Layers\n",
    "\n",
    "PiNN networks and layers are Keras [Layers](https://www.tensorflow.org/api_docs/python/tf/keras/layers/Layer) \n",
    "and [Models](https://www.tensorflow.org/api_docs/python/tf/keras/Model). \n",
    "\n",
    "To use them, you create an instance of layer, after that, the layer object can be used as a function. Each layer\n",
    "is initialized with different parameters and requires different input tensors, see their individual documentation\n",
    "for the details."
   ]
  },
  {
   "cell_type": "code",
   "execution_count": 3,
   "id": "3ad6ea7b-4845-4812-9a27-6ab1c68fd23f",
   "metadata": {},
   "outputs": [],
   "source": [
    "from pinn.layers import CellListNL\n",
    "from pinn.networks.pinet import PILayer, PiNet\n",
    "\n",
    "nl = CellListNL(rc=5)\n",
    "\n",
    "for datum in dataset:\n",
    "    nl(datum)\n",
    "    break"
   ]
  },
  {
   "cell_type": "markdown",
   "id": "51155051-78bc-44f6-b860-c8bf48d46c43",
   "metadata": {},
   "source": [
    "The definition of a layer needs three parts:\n",
    "\n",
    "- `__init__` defines the layer object; \n",
    "- `build` creates the necessary variables or sub-layers; \n",
    "- `call` defines how the input tensors are processed.\n",
    "\n",
    "The `build()` method is only called once when the layer is used for the first tiem (e.g. in a loop).\n",
    "See below for an example definition for the `PILayer`"
   ]
  },
  {
   "cell_type": "code",
   "execution_count": 4,
   "id": "f2fb3334-740f-43b1-b873-b9a3032ab52d",
   "metadata": {},
   "outputs": [
    {
     "data": {
      "text/plain": [
       "\u001b[0;31mInit signature:\u001b[0m \u001b[0mPILayer\u001b[0m\u001b[0;34m(\u001b[0m\u001b[0;34m*\u001b[0m\u001b[0margs\u001b[0m\u001b[0;34m,\u001b[0m \u001b[0;34m**\u001b[0m\u001b[0mkwargs\u001b[0m\u001b[0;34m)\u001b[0m\u001b[0;34m\u001b[0m\u001b[0;34m\u001b[0m\u001b[0m\n",
       "\u001b[0;31mSource:\u001b[0m        \n",
       "\u001b[0;32mclass\u001b[0m \u001b[0mPILayer\u001b[0m\u001b[0;34m(\u001b[0m\u001b[0mtf\u001b[0m\u001b[0;34m.\u001b[0m\u001b[0mkeras\u001b[0m\u001b[0;34m.\u001b[0m\u001b[0mlayers\u001b[0m\u001b[0;34m.\u001b[0m\u001b[0mLayer\u001b[0m\u001b[0;34m)\u001b[0m\u001b[0;34m:\u001b[0m\u001b[0;34m\u001b[0m\n",
       "\u001b[0;34m\u001b[0m    \u001b[0;34m\"\"\"PiNN style interaction layer\u001b[0m\n",
       "\u001b[0;34m\u001b[0m\n",
       "\u001b[0;34m    Args:\u001b[0m\n",
       "\u001b[0;34m        n_nodes: number of nodes to use\u001b[0m\n",
       "\u001b[0;34m            Note that the last element of n_nodes specifies the dimention of\u001b[0m\n",
       "\u001b[0;34m            the fully connected network before applying the basis function.\u001b[0m\n",
       "\u001b[0;34m            Dimension of the last node is [pairs*n_nodes[-1]*n_basis], the\u001b[0m\n",
       "\u001b[0;34m            output is then summed with the basis to form the interaction nodes\u001b[0m\n",
       "\u001b[0;34m        **kwargs: keyword arguments will be parsed to the feed forward layers\u001b[0m\n",
       "\u001b[0;34m    \"\"\"\u001b[0m\u001b[0;34m\u001b[0m\n",
       "\u001b[0;34m\u001b[0m    \u001b[0;32mdef\u001b[0m \u001b[0m__init__\u001b[0m\u001b[0;34m(\u001b[0m\u001b[0mself\u001b[0m\u001b[0;34m,\u001b[0m \u001b[0mn_nodes\u001b[0m\u001b[0;34m=\u001b[0m\u001b[0;34m[\u001b[0m\u001b[0;36m64\u001b[0m\u001b[0;34m]\u001b[0m\u001b[0;34m,\u001b[0m \u001b[0;34m**\u001b[0m\u001b[0mkwargs\u001b[0m\u001b[0;34m)\u001b[0m\u001b[0;34m:\u001b[0m\u001b[0;34m\u001b[0m\n",
       "\u001b[0;34m\u001b[0m        \u001b[0msuper\u001b[0m\u001b[0;34m(\u001b[0m\u001b[0mPILayer\u001b[0m\u001b[0;34m,\u001b[0m \u001b[0mself\u001b[0m\u001b[0;34m)\u001b[0m\u001b[0;34m.\u001b[0m\u001b[0m__init__\u001b[0m\u001b[0;34m(\u001b[0m\u001b[0;34m)\u001b[0m\u001b[0;34m\u001b[0m\n",
       "\u001b[0;34m\u001b[0m        \u001b[0mself\u001b[0m\u001b[0;34m.\u001b[0m\u001b[0mn_nodes\u001b[0m \u001b[0;34m=\u001b[0m \u001b[0mn_nodes\u001b[0m\u001b[0;34m\u001b[0m\n",
       "\u001b[0;34m\u001b[0m        \u001b[0mself\u001b[0m\u001b[0;34m.\u001b[0m\u001b[0mkwargs\u001b[0m \u001b[0;34m=\u001b[0m \u001b[0mkwargs\u001b[0m\u001b[0;34m\u001b[0m\n",
       "\u001b[0;34m\u001b[0m\u001b[0;34m\u001b[0m\n",
       "\u001b[0;34m\u001b[0m    \u001b[0;32mdef\u001b[0m \u001b[0mbuild\u001b[0m\u001b[0;34m(\u001b[0m\u001b[0mself\u001b[0m\u001b[0;34m,\u001b[0m \u001b[0mshapes\u001b[0m\u001b[0;34m)\u001b[0m\u001b[0;34m:\u001b[0m\u001b[0;34m\u001b[0m\n",
       "\u001b[0;34m\u001b[0m        \u001b[0mself\u001b[0m\u001b[0;34m.\u001b[0m\u001b[0mn_basis\u001b[0m \u001b[0;34m=\u001b[0m \u001b[0mshapes\u001b[0m\u001b[0;34m[\u001b[0m\u001b[0;36m2\u001b[0m\u001b[0;34m]\u001b[0m\u001b[0;34m[\u001b[0m\u001b[0;34m-\u001b[0m\u001b[0;36m1\u001b[0m\u001b[0;34m]\u001b[0m\u001b[0;34m\u001b[0m\n",
       "\u001b[0;34m\u001b[0m        \u001b[0mn_nodes_iter\u001b[0m \u001b[0;34m=\u001b[0m \u001b[0mself\u001b[0m\u001b[0;34m.\u001b[0m\u001b[0mn_nodes\u001b[0m\u001b[0;34m.\u001b[0m\u001b[0mcopy\u001b[0m\u001b[0;34m(\u001b[0m\u001b[0;34m)\u001b[0m\u001b[0;34m\u001b[0m\n",
       "\u001b[0;34m\u001b[0m        \u001b[0mn_nodes_iter\u001b[0m\u001b[0;34m[\u001b[0m\u001b[0;34m-\u001b[0m\u001b[0;36m1\u001b[0m\u001b[0;34m]\u001b[0m \u001b[0;34m*=\u001b[0m \u001b[0mself\u001b[0m\u001b[0;34m.\u001b[0m\u001b[0mn_basis\u001b[0m\u001b[0;34m\u001b[0m\n",
       "\u001b[0;34m\u001b[0m        \u001b[0mself\u001b[0m\u001b[0;34m.\u001b[0m\u001b[0mff_layer\u001b[0m \u001b[0;34m=\u001b[0m \u001b[0mFFLayer\u001b[0m\u001b[0;34m(\u001b[0m\u001b[0mn_nodes_iter\u001b[0m\u001b[0;34m,\u001b[0m \u001b[0;34m**\u001b[0m\u001b[0mself\u001b[0m\u001b[0;34m.\u001b[0m\u001b[0mkwargs\u001b[0m\u001b[0;34m)\u001b[0m\u001b[0;34m\u001b[0m\n",
       "\u001b[0;34m\u001b[0m\u001b[0;34m\u001b[0m\n",
       "\u001b[0;34m\u001b[0m    \u001b[0;32mdef\u001b[0m \u001b[0mcall\u001b[0m\u001b[0;34m(\u001b[0m\u001b[0mself\u001b[0m\u001b[0;34m,\u001b[0m \u001b[0mtensors\u001b[0m\u001b[0;34m)\u001b[0m\u001b[0;34m:\u001b[0m\u001b[0;34m\u001b[0m\n",
       "\u001b[0;34m\u001b[0m        \u001b[0mind_2\u001b[0m\u001b[0;34m,\u001b[0m \u001b[0mprop\u001b[0m\u001b[0;34m,\u001b[0m \u001b[0mbasis\u001b[0m \u001b[0;34m=\u001b[0m \u001b[0mtensors\u001b[0m\u001b[0;34m\u001b[0m\n",
       "\u001b[0;34m\u001b[0m        \u001b[0mind_i\u001b[0m \u001b[0;34m=\u001b[0m \u001b[0mind_2\u001b[0m\u001b[0;34m[\u001b[0m\u001b[0;34m:\u001b[0m\u001b[0;34m,\u001b[0m \u001b[0;36m0\u001b[0m\u001b[0;34m]\u001b[0m\u001b[0;34m\u001b[0m\n",
       "\u001b[0;34m\u001b[0m        \u001b[0mind_j\u001b[0m \u001b[0;34m=\u001b[0m \u001b[0mind_2\u001b[0m\u001b[0;34m[\u001b[0m\u001b[0;34m:\u001b[0m\u001b[0;34m,\u001b[0m \u001b[0;36m1\u001b[0m\u001b[0;34m]\u001b[0m\u001b[0;34m\u001b[0m\n",
       "\u001b[0;34m\u001b[0m        \u001b[0mprop_i\u001b[0m \u001b[0;34m=\u001b[0m \u001b[0mtf\u001b[0m\u001b[0;34m.\u001b[0m\u001b[0mgather\u001b[0m\u001b[0;34m(\u001b[0m\u001b[0mprop\u001b[0m\u001b[0;34m,\u001b[0m \u001b[0mind_i\u001b[0m\u001b[0;34m)\u001b[0m\u001b[0;34m\u001b[0m\n",
       "\u001b[0;34m\u001b[0m        \u001b[0mprop_j\u001b[0m \u001b[0;34m=\u001b[0m \u001b[0mtf\u001b[0m\u001b[0;34m.\u001b[0m\u001b[0mgather\u001b[0m\u001b[0;34m(\u001b[0m\u001b[0mprop\u001b[0m\u001b[0;34m,\u001b[0m \u001b[0mind_j\u001b[0m\u001b[0;34m)\u001b[0m\u001b[0;34m\u001b[0m\n",
       "\u001b[0;34m\u001b[0m\u001b[0;34m\u001b[0m\n",
       "\u001b[0;34m\u001b[0m        \u001b[0minter\u001b[0m \u001b[0;34m=\u001b[0m \u001b[0mtf\u001b[0m\u001b[0;34m.\u001b[0m\u001b[0mconcat\u001b[0m\u001b[0;34m(\u001b[0m\u001b[0;34m[\u001b[0m\u001b[0mprop_i\u001b[0m\u001b[0;34m,\u001b[0m \u001b[0mprop_j\u001b[0m\u001b[0;34m]\u001b[0m\u001b[0;34m,\u001b[0m \u001b[0maxis\u001b[0m\u001b[0;34m=\u001b[0m\u001b[0;34m-\u001b[0m\u001b[0;36m1\u001b[0m\u001b[0;34m)\u001b[0m\u001b[0;34m\u001b[0m\n",
       "\u001b[0;34m\u001b[0m        \u001b[0minter\u001b[0m \u001b[0;34m=\u001b[0m \u001b[0mself\u001b[0m\u001b[0;34m.\u001b[0m\u001b[0mff_layer\u001b[0m\u001b[0;34m(\u001b[0m\u001b[0minter\u001b[0m\u001b[0;34m)\u001b[0m\u001b[0;34m\u001b[0m\n",
       "\u001b[0;34m\u001b[0m        \u001b[0minter\u001b[0m \u001b[0;34m=\u001b[0m \u001b[0mtf\u001b[0m\u001b[0;34m.\u001b[0m\u001b[0mreshape\u001b[0m\u001b[0;34m(\u001b[0m\u001b[0minter\u001b[0m\u001b[0;34m,\u001b[0m \u001b[0mtf\u001b[0m\u001b[0;34m.\u001b[0m\u001b[0mconcat\u001b[0m\u001b[0;34m(\u001b[0m\u001b[0;34m\u001b[0m\n",
       "\u001b[0;34m\u001b[0m            \u001b[0;34m[\u001b[0m\u001b[0mtf\u001b[0m\u001b[0;34m.\u001b[0m\u001b[0mshape\u001b[0m\u001b[0;34m(\u001b[0m\u001b[0minter\u001b[0m\u001b[0;34m)\u001b[0m\u001b[0;34m[\u001b[0m\u001b[0;34m:\u001b[0m\u001b[0;34m-\u001b[0m\u001b[0;36m1\u001b[0m\u001b[0;34m]\u001b[0m\u001b[0;34m,\u001b[0m \u001b[0;34m[\u001b[0m\u001b[0mself\u001b[0m\u001b[0;34m.\u001b[0m\u001b[0mn_nodes\u001b[0m\u001b[0;34m[\u001b[0m\u001b[0;34m-\u001b[0m\u001b[0;36m1\u001b[0m\u001b[0;34m]\u001b[0m\u001b[0;34m,\u001b[0m \u001b[0mself\u001b[0m\u001b[0;34m.\u001b[0m\u001b[0mn_basis\u001b[0m\u001b[0;34m]\u001b[0m\u001b[0;34m]\u001b[0m\u001b[0;34m,\u001b[0m \u001b[0;36m0\u001b[0m\u001b[0;34m)\u001b[0m\u001b[0;34m)\u001b[0m\u001b[0;34m\u001b[0m\n",
       "\u001b[0;34m\u001b[0m        \u001b[0minter\u001b[0m \u001b[0;34m=\u001b[0m \u001b[0mtf\u001b[0m\u001b[0;34m.\u001b[0m\u001b[0mreduce_sum\u001b[0m\u001b[0;34m(\u001b[0m\u001b[0minter\u001b[0m\u001b[0;34m*\u001b[0m\u001b[0mbasis\u001b[0m\u001b[0;34m,\u001b[0m \u001b[0maxis\u001b[0m\u001b[0;34m=\u001b[0m\u001b[0;34m-\u001b[0m\u001b[0;36m1\u001b[0m\u001b[0;34m)\u001b[0m\u001b[0;34m\u001b[0m\n",
       "\u001b[0;34m\u001b[0m        \u001b[0;32mreturn\u001b[0m \u001b[0minter\u001b[0m\u001b[0;34m\u001b[0m\u001b[0;34m\u001b[0m\u001b[0m\n",
       "\u001b[0;31mFile:\u001b[0m           ~/code/PiNN/pinn/networks/pinet.py\n",
       "\u001b[0;31mType:\u001b[0m           type\n",
       "\u001b[0;31mSubclasses:\u001b[0m     \n"
      ]
     },
     "metadata": {},
     "output_type": "display_data"
    }
   ],
   "source": [
    "??PILayer"
   ]
  },
  {
   "cell_type": "markdown",
   "id": "245bb8a9-f30f-4842-94c5-273bcb01cb4b",
   "metadata": {},
   "source": [
    "## Using PiNN Networks\n",
    "\n",
    "`network` (Keras Models) are defined similarly, but they can be directly used to perform regression task.\n",
    "\n",
    "By default, `network`  produces per-atom predictions, this can be changed by the `out_pool` parameter to \n",
    "get some simple per-structure predictions. In that case, the network object can be used to perform trainig directly.\n",
    "\n"
   ]
  },
  {
   "cell_type": "code",
   "execution_count": 6,
   "id": "70540231-a925-48f5-825d-cc4f62604f5c",
   "metadata": {},
   "outputs": [
    {
     "name": "stdout",
     "output_type": "stream",
     "text": [
      "Epoch 1/3\n"
     ]
    },
    {
     "name": "stderr",
     "output_type": "stream",
     "text": [
      "/home/yunqi/.miniconda/envs/pinn-tf2/lib/python3.9/site-packages/tensorflow/python/framework/indexed_slices.py:444: UserWarning: Converting sparse IndexedSlices(IndexedSlices(indices=Tensor(\"Adam/gradients/concat_1:0\", shape=(None,), dtype=int32), values=Tensor(\"Adam/gradients/concat:0\", shape=(None, 16), dtype=float32), dense_shape=Tensor(\"gradient_tape/pi_net_1/gc_block_7/pi_layer_7/Cast:0\", shape=(2,), dtype=int32))) to a dense Tensor of unknown shape. This may consume a large amount of memory.\n",
      "  warnings.warn(\n",
      "/home/yunqi/.miniconda/envs/pinn-tf2/lib/python3.9/site-packages/tensorflow/python/framework/indexed_slices.py:444: UserWarning: Converting sparse IndexedSlices(IndexedSlices(indices=Tensor(\"Adam/gradients/concat_3:0\", shape=(None,), dtype=int32), values=Tensor(\"Adam/gradients/concat_2:0\", shape=(None, 16), dtype=float32), dense_shape=Tensor(\"gradient_tape/pi_net_1/gc_block_6/pi_layer_6/Cast:0\", shape=(2,), dtype=int32))) to a dense Tensor of unknown shape. This may consume a large amount of memory.\n",
      "  warnings.warn(\n",
      "/home/yunqi/.miniconda/envs/pinn-tf2/lib/python3.9/site-packages/tensorflow/python/framework/indexed_slices.py:444: UserWarning: Converting sparse IndexedSlices(IndexedSlices(indices=Tensor(\"Adam/gradients/concat_5:0\", shape=(None,), dtype=int32), values=Tensor(\"Adam/gradients/concat_4:0\", shape=(None, 16), dtype=float32), dense_shape=Tensor(\"gradient_tape/pi_net_1/gc_block_5/pi_layer_5/Cast:0\", shape=(2,), dtype=int32))) to a dense Tensor of unknown shape. This may consume a large amount of memory.\n",
      "  warnings.warn(\n"
     ]
    },
    {
     "name": "stdout",
     "output_type": "stream",
     "text": [
      "2000/2000 [==============================] - 37s 17ms/step - loss: 0.0551\n",
      "Epoch 2/3\n",
      "2000/2000 [==============================] - 35s 18ms/step - loss: 0.0285\n",
      "Epoch 3/3\n",
      "2000/2000 [==============================] - 35s 17ms/step - loss: 0.0240\n"
     ]
    },
    {
     "data": {
      "text/plain": [
       "<keras.callbacks.History at 0x7f17c86591f0>"
      ]
     },
     "execution_count": 6,
     "metadata": {},
     "output_type": "execute_result"
    }
   ],
   "source": [
    "def label_data(data):\n",
    "    # defines the label to train on\n",
    "    x = data\n",
    "    y = data['lumo']\n",
    "    return x, y\n",
    "\n",
    "train = dataset.map(label_data)\n",
    "pinet = PiNet(out_pool='min')\n",
    "pinet.compile(optimizer='Adam', loss='MAE')\n",
    "pinet.fit(train, epochs=3)"
   ]
  },
  {
   "cell_type": "markdown",
   "id": "edbf453d-cca7-4982-9e35-cc811e6007fd",
   "metadata": {},
   "source": [
    "## Further benchmarks\n",
    "\n",
    "For more advanced usage you are recommended to use the `Model` API to define the trainig loss, derived predicates.\n",
    "For traininig potential energy surfaces, you are recommended to use `pinn.models.potential_model` in combination with the command line interface (CLI).\n",
    "\n",
    "Alternatively, see the [Trainig Tips](More_on_training.ipynb) notebook to see how to run the tranining interactively in a notebook."
   ]
  }
 ],
 "metadata": {
  "kernelspec": {
   "display_name": "pinn-tf26",
   "language": "python",
   "name": "pinn-tf26"
  },
  "language_info": {
   "codemirror_mode": {
    "name": "ipython",
    "version": 3
   },
   "file_extension": ".py",
   "mimetype": "text/x-python",
   "name": "python",
   "nbconvert_exporter": "python",
   "pygments_lexer": "ipython3",
   "version": "3.9.5"
  }
 },
 "nbformat": 4,
 "nbformat_minor": 5
}
