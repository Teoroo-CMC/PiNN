{
 "cells": [
  {
   "cell_type": "markdown",
   "metadata": {},
   "source": [
    "# Optimizing the training [![Open in Colab](https://colab.research.google.com/assets/colab-badge.svg)](https://colab.research.google.com/github/Teoroo-CMC/PiNN/blob/master/docs/notebooks/More_on_training.ipynb)\n",
    "\n",
    "\n",
    "This notebooks covers more details on tweaking and optimizing the training process."
   ]
  },
  {
   "cell_type": "code",
   "execution_count": null,
   "metadata": {},
   "outputs": [],
   "source": [
    "# Install PiNN & download QM9 dataset\n",
    "!pip install git+https://github.com/Teoroo-CMC/PiNN\n",
    "!mkdir -p /tmp/dsgdb9nsd && curl -sSL https://ndownloader.figshare.com/files/3195389 | tar xj -C /tmp/dsgdb9nsd"
   ]
  },
  {
   "cell_type": "code",
   "execution_count": 2,
   "metadata": {},
   "outputs": [],
   "source": [
    "import os, warnings\n",
    "import tensorflow as tf\n",
    "\n",
    "import matplotlib.pyplot as plt\n",
    "\n",
    "from glob import glob\n",
    "from pinn.io import load_qm9, sparse_batch\n",
    "from pinn.networks.pinet import PiNet\n",
    "from pinn.utils import get_atomic_dress\n",
    "from pinn import get_model, get_network\n",
    "\n",
    "os.environ['CUDA_VISIBLE_DEVICES'] = ''\n",
    "index_warning = 'Converting sparse IndexedSlices'\n",
    "warnings.filterwarnings('ignore', index_warning)"
   ]
  },
  {
   "cell_type": "markdown",
   "metadata": {},
   "source": [
    "## Optimizing the pipeline\n",
    "### Caching\n",
    "Caching stores the decoded dataset in the memory."
   ]
  },
  {
   "cell_type": "code",
   "execution_count": 3,
   "metadata": {},
   "outputs": [],
   "source": [
    "# For the purpose of testing, we use only 1000 samples from QM9\n",
    "filelist = glob('/tmp/dsgdb9nsd/*.xyz')[:1000]\n",
    "dataset = lambda: load_qm9(filelist)"
   ]
  },
  {
   "cell_type": "code",
   "execution_count": 4,
   "metadata": {},
   "outputs": [
    {
     "name": "stdout",
     "output_type": "stream",
     "text": [
      "51.5 ms ± 3.49 ms per loop (mean ± std. dev. of 7 runs, 10 loops each)\n"
     ]
    }
   ],
   "source": [
    "ds = dataset().repeat().apply(sparse_batch(100))\n",
    "tensors = ds.as_numpy_iterator()\n",
    "for i in range(10):\n",
    "    next(tensors) # \"Warm up\" the graph\n",
    "%timeit next(tensors)"
   ]
  },
  {
   "cell_type": "markdown",
   "metadata": {},
   "source": [
    "This speed indicates the IO limit of our current setting.\n",
    "\n",
    "Now let's cache the dataset to the memory."
   ]
  },
  {
   "cell_type": "code",
   "execution_count": 5,
   "metadata": {},
   "outputs": [
    {
     "name": "stdout",
     "output_type": "stream",
     "text": [
      "385 µs ± 35.3 µs per loop (mean ± std. dev. of 7 runs, 1000 loops each)\n"
     ]
    }
   ],
   "source": [
    "ds = dataset().cache().repeat().apply(sparse_batch(100))\n",
    "tensors = ds.as_numpy_iterator()\n",
    "for i in range(10):\n",
    "    next(tensors) # \"Warm up\" the graph\n",
    "%timeit next(tensors)"
   ]
  },
  {
   "cell_type": "markdown",
   "metadata": {},
   "source": [
    "### Preprocessing\n",
    "You might also see a notable difference in the performance with and without preprocessing. This is especially helpful when you are training with GPUs."
   ]
  },
  {
   "cell_type": "code",
   "execution_count": 6,
   "metadata": {},
   "outputs": [
    {
     "name": "stdout",
     "output_type": "stream",
     "text": [
      "89 ms ± 4.08 ms per loop (mean ± std. dev. of 7 runs, 10 loops each)\n"
     ]
    }
   ],
   "source": [
    "pinet = PiNet()\n",
    "ds = dataset().cache().repeat().apply(sparse_batch(100))\n",
    "tensors = ds.as_numpy_iterator()\n",
    "for i in range(10):\n",
    "    pinet(next(tensors)) # \"Warm up\" the graph\n",
    "%timeit pinet(next(tensors))"
   ]
  },
  {
   "cell_type": "code",
   "execution_count": 7,
   "metadata": {},
   "outputs": [
    {
     "name": "stdout",
     "output_type": "stream",
     "text": [
      "WARNING:tensorflow:From /home/yunqi/.miniconda/envs/pinn-tf2/lib/python3.9/site-packages/tensorflow/python/ops/array_ops.py:5043: calling gather (from tensorflow.python.ops.array_ops) with validate_indices is deprecated and will be removed in a future version.\n",
      "Instructions for updating:\n",
      "The `validate_indices` argument has no effect. Indices are always validated on CPU and never validated on GPU.\n",
      "545 µs ± 38.1 µs per loop (mean ± std. dev. of 7 runs, 1000 loops each)\n"
     ]
    }
   ],
   "source": [
    "pinet = PiNet()\n",
    "ds = dataset().cache().repeat().apply(sparse_batch(100)).map(pinet.preprocess)\n",
    "tensors = ds.as_numpy_iterator()\n",
    "for i in range(10):\n",
    "    next(tensors) # \"Warm up\" the graph\n",
    "%timeit next(tensors)"
   ]
  },
  {
   "cell_type": "markdown",
   "metadata": {},
   "source": [
    "You can even cache the preprocessed data."
   ]
  },
  {
   "cell_type": "code",
   "execution_count": 8,
   "metadata": {},
   "outputs": [
    {
     "name": "stdout",
     "output_type": "stream",
     "text": [
      "289 µs ± 2.58 µs per loop (mean ± std. dev. of 7 runs, 1000 loops each)\n"
     ]
    }
   ],
   "source": [
    "pinet = PiNet()\n",
    "ds = dataset().apply(sparse_batch(100)).map(pinet.preprocess).cache().repeat()\n",
    "tensors = ds.as_numpy_iterator()\n",
    "for i in range(10):\n",
    "    next(tensors) # \"Warm up\" the graph\n",
    "%timeit next(tensors)"
   ]
  },
  {
   "cell_type": "markdown",
   "metadata": {},
   "source": [
    "## Atomic dress\n",
    "Scaling and aligning the labels can \n",
    "enhance the performance of the models, and avoid numerical instability.\n",
    "For datasets like QM9, we can assign an atomic energy to each atom according\n",
    "to their elements to approximate the total energy. This can be done by a simple \n",
    "linear regression. We provide a simple tool to generate such \"atomic dresses\"."
   ]
  },
  {
   "cell_type": "code",
   "execution_count": 9,
   "metadata": {},
   "outputs": [],
   "source": [
    "filelist = glob('/tmp/dsgdb9nsd/*.xyz')\n",
    "dataset = lambda: load_qm9(filelist, splits={'train':8, 'test':2})\n",
    "dress, error = get_atomic_dress(dataset()['train'],[1,6,7,8,9])"
   ]
  },
  {
   "cell_type": "markdown",
   "metadata": {},
   "source": [
    "Applying the atomic dress converts the QM9 energies to a \"normal\" distribution.\n",
    "It also gives us some ideas about the relative distribution of energies, and \n",
    "how much our neural network improves from the naive guess of the atomic dress.\n",
    "\n",
    "After applying the atomic dress, it turns out that the distribution of our training set is only about 0.05 Hartree, or 30 kcal/mol."
   ]
  },
  {
   "cell_type": "code",
   "execution_count": 10,
   "metadata": {},
   "outputs": [
    {
     "data": {
      "text/plain": [
       "{1: -0.6037799981310462,\n",
       " 6: -38.07402501506576,\n",
       " 7: -54.74923962293649,\n",
       " 8: -75.2255233345936,\n",
       " 9: -99.86678682702703}"
      ]
     },
     "execution_count": 10,
     "metadata": {},
     "output_type": "execute_result"
    },
    {
     "data": {
      "image/png": "[encoded data removed]",
      "text/plain": [
       "<Figure size 432x288 with 1 Axes>"
      ]
     },
     "metadata": {
      "needs_background": "light"
     },
     "output_type": "display_data"
    }
   ],
   "source": [
    "plt.hist(error,50)\n",
    "dress"
   ]
  },
  {
   "cell_type": "markdown",
   "metadata": {},
   "source": [
    "## Training with the optimized pipeline"
   ]
  },
  {
   "cell_type": "code",
   "execution_count": 13,
   "metadata": {},
   "outputs": [
    {
     "name": "stdout",
     "output_type": "stream",
     "text": [
      "INFO:tensorflow:Using config: {'_model_dir': '/tmp/PiNet_QM9_pipeline', '_tf_random_seed': None, '_save_summary_steps': 100, '_save_checkpoints_steps': None, '_save_checkpoints_secs': 600, '_session_config': allow_soft_placement: true\n",
      "graph_options {\n",
      "  rewrite_options {\n",
      "    meta_optimizer_iterations: ONE\n",
      "  }\n",
      "}\n",
      ", '_keep_checkpoint_max': 5, '_keep_checkpoint_every_n_hours': 10000, '_log_step_count_steps': 500, '_train_distribute': None, '_device_fn': None, '_protocol': None, '_eval_distribute': None, '_experimental_distribute': None, '_experimental_max_worker_delay_secs': None, '_session_creation_timeout_secs': 7200, '_checkpoint_save_graph_def': True, '_service': None, '_cluster_spec': ClusterSpec({}), '_task_type': 'worker', '_task_id': 0, '_global_id_in_cluster': 0, '_master': '', '_evaluation_master': '', '_is_chief': True, '_num_ps_replicas': 0, '_num_worker_replicas': 1}\n"
     ]
    }
   ],
   "source": [
    "!rm -rf /tmp/PiNet_QM9_pipeline\n",
    "params = {'model_dir': '/tmp/PiNet_QM9_pipeline',\n",
    "          'network': {\n",
    "              'name': 'PiNet',\n",
    "              'params': {\n",
    "                  'atom_types':[1, 6, 7, 8, 9],\n",
    "              },\n",
    "          },\n",
    "          'model': {\n",
    "              'name': 'potential_model',\n",
    "              'params': {\n",
    "                  'learning_rate': 1e-3, # Relatively large learning rate\n",
    "                  'e_scale': 627.5, # Here we scale the model to kcal/mol\n",
    "                  'e_dress': dress\n",
    "              }\n",
    "          }\n",
    "         }\n",
    "\n",
    "# The logging behavior of estimator can be controlled here\n",
    "config = tf.estimator.RunConfig(log_step_count_steps=500)\n",
    "\n",
    "# Preprocessing the datasets\n",
    "model = get_model(params, config=config)\n",
    "\n",
    "# If you are pre-processing the dataset in the training script,\n",
    "# the preprocessing layer will occupy the namespace of the network\n",
    "# resulting unexpected names in the ckpts and errors durning prediction\n",
    "# To avoid this, wrap your preprocessing function with a name_scope.\n",
    "# This will not be a problem if you save a preprocessed dataset\n",
    "def pre_fn(tensors):\n",
    "    with tf.name_scope(\"PRE\") as scope:\n",
    "        network = get_network(model.params['network'])\n",
    "        tensors = network.preprocess(tensors)\n",
    "    return tensors\n",
    "\n",
    "train = lambda: dataset()['train'].apply(sparse_batch(100)).map(pre_fn).cache().repeat().shuffle(100)\n",
    "test = lambda: dataset()['test'].apply(sparse_batch(100))\n",
    "\n",
    "# Running specs\n",
    "train_spec = tf.estimator.TrainSpec(input_fn=train, max_steps=1e4)\n",
    "eval_spec = tf.estimator.EvalSpec(input_fn=test, steps=100)"
   ]
  },
  {
   "cell_type": "code",
   "execution_count": 14,
   "metadata": {},
   "outputs": [
    {
     "name": "stdout",
     "output_type": "stream",
     "text": [
      "INFO:tensorflow:Not using Distribute Coordinator.\n",
      "INFO:tensorflow:Running training and evaluation locally (non-distributed).\n",
      "INFO:tensorflow:Start train and evaluate loop. The evaluate will happen after every checkpoint. Checkpoint frequency is determined based on RunConfig arguments: save_checkpoints_steps None or save_checkpoints_secs 600.\n",
      "INFO:tensorflow:Calling model_fn.\n",
      "12112 trainable vaiabless, training with float32 precision.\n",
      "INFO:tensorflow:Done calling model_fn.\n",
      "INFO:tensorflow:Create CheckpointSaverHook.\n",
      "INFO:tensorflow:Graph was finalized.\n",
      "INFO:tensorflow:Running local_init_op.\n",
      "INFO:tensorflow:Done running local_init_op.\n",
      "INFO:tensorflow:Calling checkpoint listeners before saving checkpoint 0...\n",
      "INFO:tensorflow:Saving checkpoints for 0 into /tmp/PiNet_QM9_pipeline/model.ckpt.\n",
      "INFO:tensorflow:Calling checkpoint listeners after saving checkpoint 0...\n",
      "INFO:tensorflow:loss = 1608.7036, step = 0\n",
      "INFO:tensorflow:global_step/sec: 11.2424\n",
      "INFO:tensorflow:loss = 309.28052, step = 500 (44.477 sec)\n",
      "INFO:tensorflow:global_step/sec: 11.6739\n",
      "INFO:tensorflow:loss = 147.40509, step = 1000 (42.830 sec)\n",
      "INFO:tensorflow:global_step/sec: 25.8236\n",
      "INFO:tensorflow:loss = 115.164055, step = 1500 (19.362 sec)\n",
      "INFO:tensorflow:global_step/sec: 26.4694\n",
      "INFO:tensorflow:loss = 126.90699, step = 2000 (18.894 sec)\n",
      "INFO:tensorflow:global_step/sec: 26.1443\n",
      "INFO:tensorflow:loss = 103.33997, step = 2500 (19.120 sec)\n",
      "INFO:tensorflow:global_step/sec: 26.1268\n",
      "INFO:tensorflow:loss = 96.97985, step = 3000 (19.137 sec)\n",
      "INFO:tensorflow:global_step/sec: 25.9872\n",
      "INFO:tensorflow:loss = 107.959435, step = 3500 (19.241 sec)\n",
      "INFO:tensorflow:global_step/sec: 26.0982\n",
      "INFO:tensorflow:loss = 83.18972, step = 4000 (19.158 sec)\n",
      "INFO:tensorflow:global_step/sec: 26.2075\n",
      "INFO:tensorflow:loss = 70.3028, step = 4500 (19.080 sec)\n",
      "INFO:tensorflow:global_step/sec: 25.9199\n",
      "INFO:tensorflow:loss = 84.25394, step = 5000 (19.289 sec)\n",
      "INFO:tensorflow:global_step/sec: 26.4121\n",
      "INFO:tensorflow:loss = 129.86829, step = 5500 (18.930 sec)\n",
      "INFO:tensorflow:global_step/sec: 25.8288\n",
      "INFO:tensorflow:loss = 132.20454, step = 6000 (19.359 sec)\n",
      "INFO:tensorflow:global_step/sec: 26.261\n",
      "INFO:tensorflow:loss = 69.64721, step = 6500 (19.038 sec)\n",
      "INFO:tensorflow:global_step/sec: 26.1977\n",
      "INFO:tensorflow:loss = 62.85822, step = 7000 (19.086 sec)\n",
      "INFO:tensorflow:global_step/sec: 26.0748\n",
      "INFO:tensorflow:loss = 69.52461, step = 7500 (19.176 sec)\n",
      "INFO:tensorflow:global_step/sec: 26.3489\n",
      "INFO:tensorflow:loss = 93.84022, step = 8000 (18.975 sec)\n",
      "INFO:tensorflow:global_step/sec: 25.3495\n",
      "INFO:tensorflow:loss = 97.3127, step = 8500 (19.724 sec)\n",
      "INFO:tensorflow:global_step/sec: 25.7534\n",
      "INFO:tensorflow:loss = 43.729958, step = 9000 (19.416 sec)\n",
      "INFO:tensorflow:global_step/sec: 26.3466\n",
      "INFO:tensorflow:loss = 41.565964, step = 9500 (18.977 sec)\n",
      "INFO:tensorflow:Calling checkpoint listeners before saving checkpoint 10000...\n",
      "INFO:tensorflow:Saving checkpoints for 10000 into /tmp/PiNet_QM9_pipeline/model.ckpt.\n",
      "INFO:tensorflow:Calling checkpoint listeners after saving checkpoint 10000...\n",
      "INFO:tensorflow:Calling model_fn.\n",
      "INFO:tensorflow:Done calling model_fn.\n",
      "INFO:tensorflow:Starting evaluation at 2021-05-31T15:01:59\n",
      "INFO:tensorflow:Graph was finalized.\n",
      "INFO:tensorflow:Restoring parameters from /tmp/PiNet_QM9_pipeline/model.ckpt-10000\n",
      "INFO:tensorflow:Running local_init_op.\n",
      "INFO:tensorflow:Done running local_init_op.\n",
      "INFO:tensorflow:Evaluation [10/100]\n",
      "INFO:tensorflow:Evaluation [20/100]\n",
      "INFO:tensorflow:Evaluation [30/100]\n",
      "INFO:tensorflow:Evaluation [40/100]\n",
      "INFO:tensorflow:Evaluation [50/100]\n",
      "INFO:tensorflow:Evaluation [60/100]\n",
      "INFO:tensorflow:Evaluation [70/100]\n",
      "INFO:tensorflow:Evaluation [80/100]\n",
      "INFO:tensorflow:Evaluation [90/100]\n",
      "INFO:tensorflow:Evaluation [100/100]\n",
      "INFO:tensorflow:Inference Time : 10.84179s\n",
      "INFO:tensorflow:Finished evaluation at 2021-05-31-15:02:10\n",
      "INFO:tensorflow:Saving dict for global step 10000: METRICS/E_LOSS = 71.01845, METRICS/E_MAE = 5.8880224, METRICS/E_RMSE = 8.427245, global_step = 10000, loss = 71.01845\n",
      "INFO:tensorflow:Saving 'checkpoint_path' summary for global step 10000: /tmp/PiNet_QM9_pipeline/model.ckpt-10000\n",
      "INFO:tensorflow:Loss for final step: 82.67876.\n"
     ]
    },
    {
     "data": {
      "text/plain": [
       "({'METRICS/E_LOSS': 71.01845,\n",
       "  'METRICS/E_MAE': 5.8880224,\n",
       "  'METRICS/E_RMSE': 8.427245,\n",
       "  'loss': 71.01845,\n",
       "  'global_step': 10000},\n",
       " [])"
      ]
     },
     "execution_count": 14,
     "metadata": {},
     "output_type": "execute_result"
    }
   ],
   "source": [
    "tf.estimator.train_and_evaluate(model, train_spec, eval_spec)"
   ]
  },
  {
   "cell_type": "markdown",
   "metadata": {},
   "source": [
    "## Monitoring\n",
    "It's recommended to monitor the training with Tensorboard instead of the stdout here.  \n",
    "Try `tensorboard --logdir /tmp`\n"
   ]
  },
  {
   "cell_type": "markdown",
   "metadata": {},
   "source": [
    "# Profiling"
   ]
  },
  {
   "cell_type": "markdown",
   "metadata": {},
   "source": [
    "To profiling "
   ]
  },
  {
   "cell_type": "code",
   "execution_count": 1,
   "metadata": {},
   "outputs": [],
   "source": [
    "%load_ext autoreload\n",
    "%autoreload 2"
   ]
  },
  {
   "cell_type": "code",
   "execution_count": 1,
   "metadata": {},
   "outputs": [
    {
     "name": "stderr",
     "output_type": "stream",
     "text": [
      "2024-04-09 19:32:51.336851: I tensorflow/core/common_runtime/gpu/gpu_device.cc:1510] Created device /job:localhost/replica:0/task:0/device:GPU:0 with 31019 MB memory:  -> device: 0, name: Tesla V100-SXM2-32GB, pci bus id: 0000:8a:00.0, compute capability: 7.0\n"
     ]
    },
    {
     "name": "stdout",
     "output_type": "stream",
     "text": [
      "{'A': TensorShape([64]), 'B': TensorShape([64]), 'C': TensorShape([64]), 'Cv': TensorShape([64]), 'G': TensorShape([64]), 'H': TensorShape([64]), 'U': TensorShape([64]), 'U0': TensorShape([64]), 'alpha': TensorShape([64]), 'coord': TensorShape([1155, 3]), 'elems': TensorShape([1155]), 'gap': TensorShape([64]), 'homo': TensorShape([64]), 'lumo': TensorShape([64]), 'mu': TensorShape([64]), 'r2': TensorShape([64]), 'zpve': TensorShape([64]), 'ind_1': TensorShape([1155, 1])}\n"
     ]
    },
    {
     "name": "stderr",
     "output_type": "stream",
     "text": [
      "2024-04-09 19:32:51.808429: I tensorflow/compiler/mlir/mlir_graph_optimization_pass.cc:185] None of the MLIR Optimization Passes are enabled (registered 2)\n"
     ]
    }
   ],
   "source": [
    "from pinn.io import load_tfrecord, sparse_batch\n",
    "\n",
    "dataset = load_tfrecord(\"qm9_train.yml\").apply(sparse_batch(64))\n",
    "for datum in dataset:\n",
    "    print({k: v.shape for k, v in datum.items()})\n",
    "    break"
   ]
  },
  {
   "cell_type": "code",
   "execution_count": 2,
   "metadata": {},
   "outputs": [
    {
     "name": "stderr",
     "output_type": "stream",
     "text": [
      "2024-04-09 19:32:53.993221: I tensorflow/core/profiler/lib/profiler_session.cc:131] Profiler session initializing.\n",
      "2024-04-09 19:32:53.993276: I tensorflow/core/profiler/lib/profiler_session.cc:146] Profiler session started.\n",
      "2024-04-09 19:32:53.993795: I tensorflow/core/profiler/internal/gpu/cupti_tracer.cc:1614] Profiler found 1 GPUs\n"
     ]
    },
    {
     "name": "stdout",
     "output_type": "stream",
     "text": [
      "WARNING:tensorflow:Gradients do not exist for variables ['pi_net2p5_irrep_prod/res_update/dense_1/kernel:0', 'pi_net2p5_irrep_prod/res_update_1/dense_2/kernel:0', 'pi_net2p5_irrep_prod/res_update_2/dense_3/kernel:0'] when minimizing the loss.\n",
      "WARNING:tensorflow:Gradients do not exist for variables ['pi_net2p5_irrep_prod/res_update/dense_1/kernel:0', 'pi_net2p5_irrep_prod/res_update_1/dense_2/kernel:0', 'pi_net2p5_irrep_prod/res_update_2/dense_3/kernel:0'] when minimizing the loss.\n",
      "313/313 [==============================] - 7s 11ms/step - loss: 0.0350\n"
     ]
    },
    {
     "name": "stderr",
     "output_type": "stream",
     "text": [
      "2024-04-09 19:33:01.812204: I tensorflow/core/profiler/lib/profiler_session.cc:66] Profiler session collecting data.\n",
      "2024-04-09 19:33:01.845888: I tensorflow/core/profiler/internal/gpu/cupti_tracer.cc:1748] CUPTI activity buffer flushed\n",
      "2024-04-09 19:33:03.386601: I tensorflow/core/profiler/internal/gpu/cupti_collector.cc:673]  GpuTracer has collected 133818 callback api events and 133671 activity events. \n",
      "2024-04-09 19:33:06.968204: I tensorflow/core/profiler/lib/profiler_session.cc:164] Profiler session tear down.\n",
      "2024-04-09 19:33:11.171507: I tensorflow/core/profiler/rpc/client/save_profile.cc:136] Creating directory: logdir/pinet2/plugins/profile/2024_04_09_19_33_06\n",
      "\n",
      "2024-04-09 19:33:13.313499: I tensorflow/core/profiler/rpc/client/save_profile.cc:142] Dumped gzipped tool data for trace.json.gz to logdir/pinet2/plugins/profile/2024_04_09_19_33_06/alvis1-02.trace.json.gz\n",
      "2024-04-09 19:33:15.498235: I tensorflow/core/profiler/rpc/client/save_profile.cc:136] Creating directory: logdir/pinet2/plugins/profile/2024_04_09_19_33_06\n",
      "\n",
      "2024-04-09 19:33:15.512838: I tensorflow/core/profiler/rpc/client/save_profile.cc:142] Dumped gzipped tool data for memory_profile.json.gz to logdir/pinet2/plugins/profile/2024_04_09_19_33_06/alvis1-02.memory_profile.json.gz\n",
      "2024-04-09 19:33:15.709424: I tensorflow/core/profiler/rpc/client/capture_profile.cc:251] Creating directory: logdir/pinet2/plugins/profile/2024_04_09_19_33_06\n",
      "Dumped tool data for xplane.pb to logdir/pinet2/plugins/profile/2024_04_09_19_33_06/alvis1-02.xplane.pb\n",
      "Dumped tool data for overview_page.pb to logdir/pinet2/plugins/profile/2024_04_09_19_33_06/alvis1-02.overview_page.pb\n",
      "Dumped tool data for input_pipeline.pb to logdir/pinet2/plugins/profile/2024_04_09_19_33_06/alvis1-02.input_pipeline.pb\n",
      "Dumped tool data for tensorflow_stats.pb to logdir/pinet2/plugins/profile/2024_04_09_19_33_06/alvis1-02.tensorflow_stats.pb\n",
      "Dumped tool data for kernel_stats.pb to logdir/pinet2/plugins/profile/2024_04_09_19_33_06/alvis1-02.kernel_stats.pb\n",
      "\n"
     ]
    }
   ],
   "source": [
    "import tensorflow as tf\n",
    "from pinn.networks.pinet2 import PiNet2\n",
    "from pinn.networks.pinet2_p5_irrep_prod import PiNet2P5IrrepProd\n",
    "\n",
    "def label_data(data):\n",
    "    x = data\n",
    "    y = data['lumo']\n",
    "    return x, y\n",
    "\n",
    "train = dataset.map(label_data)\n",
    "pinet = PiNet2P5IrrepProd(\n",
    "    depth=1,\n",
    "    rc=4.5,\n",
    "    n_basis=10,\n",
    "    basis_type=\"gaussian\",\n",
    "    pi_nodes=[64],\n",
    "    pp_nodes=[64,64,64,64],\n",
    "    ii_nodes=[64,64,64,64],\n",
    "    out_nodes=[64],\n",
    "    weighted=False,\n",
    "    out_pool='min'\n",
    ")\n",
    "\n",
    "# see also: https://www.tensorflow.org/guide/profiler#profiling_custom_training_loops\n",
    "with tf.profiler.experimental.Profile('logdir/pinet2'):\n",
    "    pinet.compile(optimizer='Adam', loss='MAE')\n",
    "    pinet.fit(train, epochs=1, )\n",
    "# pinet(datum)"
   ]
  },
  {
   "cell_type": "code",
   "execution_count": 16,
   "metadata": {},
   "outputs": [
    {
     "data": {
      "text/plain": [
       "0.20319303338171263"
      ]
     },
     "execution_count": 16,
     "metadata": {},
     "output_type": "execute_result"
    }
   ],
   "source": [
    "3.75/8.1"
   ]
  },
  {
   "cell_type": "markdown",
   "metadata": {},
   "source": [
    "## Parallelization with tf.Estimator\n",
    "\n",
    "The estimator api makes it extremely easy to train on multiple GPUs."
   ]
  },
  {
   "cell_type": "code",
   "execution_count": null,
   "metadata": {},
   "outputs": [],
   "source": [
    "# suppose you have two cards\n",
    "distribution = tf.distribute.MirroredStrategy([\"GPU:0\", \"GPU:1\"])\n",
    "config = tf.estimator.RunConfig(train_distribute=distribution)"
   ]
  },
  {
   "cell_type": "markdown",
   "metadata": {},
   "source": [
    "## Conclusions\n",
    "\n",
    "Congratulations! You can now train atomic neural networks with \n",
    "state-of-the-art accuracy and speed.\n",
    "\n",
    "\n",
    "But there's more. With PiNN, the components of ANNs are modulized.\n",
    "Read the following notebooks to see how you can build your own ANN. "
   ]
  }
 ],
 "metadata": {
  "kernelspec": {
   "display_name": "pinn-tf26",
   "language": "python",
   "name": "pinn-tf26"
  },
  "language_info": {
   "codemirror_mode": {
    "name": "ipython",
    "version": 3
   },
   "file_extension": ".py",
   "mimetype": "text/x-python",
   "name": "python",
   "nbconvert_exporter": "python",
   "pygments_lexer": "ipython3",
   "version": "3.9.5"
  }
 },
 "nbformat": 4,
 "nbformat_minor": 4
}
